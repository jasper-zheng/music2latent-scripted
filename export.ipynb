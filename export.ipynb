{
 "cells": [
  {
   "cell_type": "code",
   "execution_count": 1,
   "id": "f4755b8c",
   "metadata": {},
   "outputs": [
    {
     "name": "stderr",
     "output_type": "stream",
     "text": [
      "/Users/jasperrr/miniforge3/envs/pt25/lib/python3.12/site-packages/tqdm/auto.py:21: TqdmWarning: IProgress not found. Please update jupyter and ipywidgets. See https://ipywidgets.readthedocs.io/en/stable/user_install.html\n",
      "  from .autonotebook import tqdm as notebook_tqdm\n"
     ]
    }
   ],
   "source": [
    "# basic imports\n",
    "import numpy as np\n",
    "import IPython\n",
    "import librosa\n",
    "\n",
    "import torch\n",
    "\n",
    "from music2latent.hparams import hparams\n",
    "from music2latent.hparams_inference import *\n",
    "\n",
    "device = \"mps\""
   ]
  },
  {
   "cell_type": "code",
   "execution_count": 2,
   "id": "7797847b",
   "metadata": {},
   "outputs": [],
   "source": [
    "import os\n",
    "\n",
    "from music2latent.export import ScriptedUNet\n",
    "# filepath = os.path.abspath(__file__)\n",
    "# lib_root = os.path.dirname(filepath)\n",
    "\n",
    "# load_path_inference_default = os.path.join(lib_root, 'models/music2latent.pt')\n",
    "\n",
    "load_path_inference_default = 'models/music2latent.pt'"
   ]
  },
  {
   "cell_type": "code",
   "execution_count": null,
   "id": "e941125e",
   "metadata": {},
   "outputs": [],
   "source": [
    "gen = UNet().to(self.device)"
   ]
  }
 ],
 "metadata": {
  "kernelspec": {
   "display_name": "pt25",
   "language": "python",
   "name": "python3"
  },
  "language_info": {
   "codemirror_mode": {
    "name": "ipython",
    "version": 3
   },
   "file_extension": ".py",
   "mimetype": "text/x-python",
   "name": "python",
   "nbconvert_exporter": "python",
   "pygments_lexer": "ipython3",
   "version": "3.12.7"
  }
 },
 "nbformat": 4,
 "nbformat_minor": 5
}
